{
 "cells": [
  {
   "cell_type": "code",
   "execution_count": 1,
   "id": "08befeab-f82f-4335-af2d-08d4348b7108",
   "metadata": {},
   "outputs": [
    {
     "name": "stdout",
     "output_type": "stream",
     "text": [
      "Requirement already satisfied: pandas in c:\\users\\anoel\\anaconda3\\lib\\site-packages (1.5.3)\n",
      "Requirement already satisfied: python-dateutil>=2.8.1 in c:\\users\\anoel\\anaconda3\\lib\\site-packages (from pandas) (2.8.2)\n",
      "Requirement already satisfied: pytz>=2020.1 in c:\\users\\anoel\\anaconda3\\lib\\site-packages (from pandas) (2022.7)\n",
      "Requirement already satisfied: numpy>=1.21.0 in c:\\users\\anoel\\anaconda3\\lib\\site-packages (from pandas) (1.23.5)\n",
      "Requirement already satisfied: six>=1.5 in c:\\users\\anoel\\anaconda3\\lib\\site-packages (from python-dateutil>=2.8.1->pandas) (1.16.0)\n"
     ]
    }
   ],
   "source": [
    "!pip install pandas"
   ]
  },
  {
   "cell_type": "code",
   "execution_count": 5,
   "id": "a3053ed8-05c8-4888-9a22-068d68cbf34f",
   "metadata": {},
   "outputs": [
    {
     "data": {
      "text/html": [
       "<div>\n",
       "<style scoped>\n",
       "    .dataframe tbody tr th:only-of-type {\n",
       "        vertical-align: middle;\n",
       "    }\n",
       "\n",
       "    .dataframe tbody tr th {\n",
       "        vertical-align: top;\n",
       "    }\n",
       "\n",
       "    .dataframe thead th {\n",
       "        text-align: right;\n",
       "    }\n",
       "</style>\n",
       "<table border=\"1\" class=\"dataframe\">\n",
       "  <thead>\n",
       "    <tr style=\"text-align: right;\">\n",
       "      <th></th>\n",
       "      <th>months_as_customer</th>\n",
       "      <th>age</th>\n",
       "      <th>policy_state</th>\n",
       "      <th>policy_csl</th>\n",
       "      <th>policy_deductable</th>\n",
       "      <th>policy_annual_premium</th>\n",
       "      <th>umbrella_limit</th>\n",
       "      <th>incident_type</th>\n",
       "      <th>collision_type</th>\n",
       "      <th>incident_severity</th>\n",
       "      <th>...</th>\n",
       "      <th>number_of_vehicles_involved</th>\n",
       "      <th>property_damage</th>\n",
       "      <th>bodily_injuries</th>\n",
       "      <th>total_claim_amount</th>\n",
       "      <th>injury_claim</th>\n",
       "      <th>property_claim</th>\n",
       "      <th>vehicle_claim</th>\n",
       "      <th>auto_make</th>\n",
       "      <th>auto_model</th>\n",
       "      <th>auto_year</th>\n",
       "    </tr>\n",
       "  </thead>\n",
       "  <tbody>\n",
       "    <tr>\n",
       "      <th>0</th>\n",
       "      <td>328</td>\n",
       "      <td>48</td>\n",
       "      <td>OH</td>\n",
       "      <td>250/500</td>\n",
       "      <td>1000</td>\n",
       "      <td>1406.91</td>\n",
       "      <td>0</td>\n",
       "      <td>Single Vehicle Collision</td>\n",
       "      <td>Side Collision</td>\n",
       "      <td>Major Damage</td>\n",
       "      <td>...</td>\n",
       "      <td>1</td>\n",
       "      <td>YES</td>\n",
       "      <td>1</td>\n",
       "      <td>71610</td>\n",
       "      <td>6510</td>\n",
       "      <td>13020</td>\n",
       "      <td>52080</td>\n",
       "      <td>Saab</td>\n",
       "      <td>92x</td>\n",
       "      <td>2004</td>\n",
       "    </tr>\n",
       "    <tr>\n",
       "      <th>1</th>\n",
       "      <td>228</td>\n",
       "      <td>42</td>\n",
       "      <td>IN</td>\n",
       "      <td>250/500</td>\n",
       "      <td>2000</td>\n",
       "      <td>1197.22</td>\n",
       "      <td>5000000</td>\n",
       "      <td>Vehicle Theft</td>\n",
       "      <td>?</td>\n",
       "      <td>Minor Damage</td>\n",
       "      <td>...</td>\n",
       "      <td>1</td>\n",
       "      <td>?</td>\n",
       "      <td>0</td>\n",
       "      <td>5070</td>\n",
       "      <td>780</td>\n",
       "      <td>780</td>\n",
       "      <td>3510</td>\n",
       "      <td>Mercedes</td>\n",
       "      <td>E400</td>\n",
       "      <td>2007</td>\n",
       "    </tr>\n",
       "    <tr>\n",
       "      <th>2</th>\n",
       "      <td>134</td>\n",
       "      <td>29</td>\n",
       "      <td>OH</td>\n",
       "      <td>100/300</td>\n",
       "      <td>2000</td>\n",
       "      <td>1413.14</td>\n",
       "      <td>5000000</td>\n",
       "      <td>Multi-vehicle Collision</td>\n",
       "      <td>Rear Collision</td>\n",
       "      <td>Minor Damage</td>\n",
       "      <td>...</td>\n",
       "      <td>3</td>\n",
       "      <td>NO</td>\n",
       "      <td>2</td>\n",
       "      <td>34650</td>\n",
       "      <td>7700</td>\n",
       "      <td>3850</td>\n",
       "      <td>23100</td>\n",
       "      <td>Dodge</td>\n",
       "      <td>RAM</td>\n",
       "      <td>2007</td>\n",
       "    </tr>\n",
       "    <tr>\n",
       "      <th>3</th>\n",
       "      <td>256</td>\n",
       "      <td>41</td>\n",
       "      <td>IL</td>\n",
       "      <td>250/500</td>\n",
       "      <td>2000</td>\n",
       "      <td>1415.74</td>\n",
       "      <td>6000000</td>\n",
       "      <td>Single Vehicle Collision</td>\n",
       "      <td>Front Collision</td>\n",
       "      <td>Major Damage</td>\n",
       "      <td>...</td>\n",
       "      <td>1</td>\n",
       "      <td>?</td>\n",
       "      <td>1</td>\n",
       "      <td>63400</td>\n",
       "      <td>6340</td>\n",
       "      <td>6340</td>\n",
       "      <td>50720</td>\n",
       "      <td>Chevrolet</td>\n",
       "      <td>Tahoe</td>\n",
       "      <td>2014</td>\n",
       "    </tr>\n",
       "    <tr>\n",
       "      <th>4</th>\n",
       "      <td>228</td>\n",
       "      <td>44</td>\n",
       "      <td>IL</td>\n",
       "      <td>500/1000</td>\n",
       "      <td>1000</td>\n",
       "      <td>1583.91</td>\n",
       "      <td>6000000</td>\n",
       "      <td>Vehicle Theft</td>\n",
       "      <td>?</td>\n",
       "      <td>Minor Damage</td>\n",
       "      <td>...</td>\n",
       "      <td>1</td>\n",
       "      <td>NO</td>\n",
       "      <td>0</td>\n",
       "      <td>6500</td>\n",
       "      <td>1300</td>\n",
       "      <td>650</td>\n",
       "      <td>4550</td>\n",
       "      <td>Accura</td>\n",
       "      <td>RSX</td>\n",
       "      <td>2009</td>\n",
       "    </tr>\n",
       "  </tbody>\n",
       "</table>\n",
       "<p>5 rows × 21 columns</p>\n",
       "</div>"
      ],
      "text/plain": [
       "   months_as_customer  age policy_state policy_csl  policy_deductable  \\\n",
       "0                 328   48           OH    250/500               1000   \n",
       "1                 228   42           IN    250/500               2000   \n",
       "2                 134   29           OH    100/300               2000   \n",
       "3                 256   41           IL    250/500               2000   \n",
       "4                 228   44           IL   500/1000               1000   \n",
       "\n",
       "   policy_annual_premium  umbrella_limit             incident_type  \\\n",
       "0                1406.91               0  Single Vehicle Collision   \n",
       "1                1197.22         5000000             Vehicle Theft   \n",
       "2                1413.14         5000000   Multi-vehicle Collision   \n",
       "3                1415.74         6000000  Single Vehicle Collision   \n",
       "4                1583.91         6000000             Vehicle Theft   \n",
       "\n",
       "    collision_type incident_severity  ...  number_of_vehicles_involved  \\\n",
       "0   Side Collision      Major Damage  ...                            1   \n",
       "1                ?      Minor Damage  ...                            1   \n",
       "2   Rear Collision      Minor Damage  ...                            3   \n",
       "3  Front Collision      Major Damage  ...                            1   \n",
       "4                ?      Minor Damage  ...                            1   \n",
       "\n",
       "   property_damage bodily_injuries  total_claim_amount  injury_claim  \\\n",
       "0              YES               1               71610          6510   \n",
       "1                ?               0                5070           780   \n",
       "2               NO               2               34650          7700   \n",
       "3                ?               1               63400          6340   \n",
       "4               NO               0                6500          1300   \n",
       "\n",
       "   property_claim  vehicle_claim  auto_make auto_model auto_year  \n",
       "0           13020          52080       Saab        92x      2004  \n",
       "1             780           3510   Mercedes       E400      2007  \n",
       "2            3850          23100      Dodge        RAM      2007  \n",
       "3            6340          50720  Chevrolet      Tahoe      2014  \n",
       "4             650           4550     Accura        RSX      2009  \n",
       "\n",
       "[5 rows x 21 columns]"
      ]
     },
     "execution_count": 5,
     "metadata": {},
     "output_type": "execute_result"
    }
   ],
   "source": [
    "import pandas as pd\n",
    "import joblib\n",
    "from sklearn.model_selection import train_test_split\n",
    "from sklearn.ensemble import RandomForestRegressor\n",
    "from sklearn.ensemble import GradientBoostingRegressor\n",
    "from sklearn.model_selection import GridSearchCV\n",
    "from sklearn.metrics import mean_absolute_error, mean_squared_error, r2_score\n",
    "\n",
    "\n",
    "\n",
    "data = pd.read_csv('insurance_claims.csv')\n",
    "\n",
    "data.head()"
   ]
  },
  {
   "cell_type": "code",
   "execution_count": 34,
   "id": "891a8954-2cee-4be5-9f51-b3bf097b0504",
   "metadata": {},
   "outputs": [],
   "source": [
    "#Independent and Dependent Variables\n",
    "X = data.drop(columns=['total_claim_amount', 'injury_claim', 'property_claim', 'vehicle_claim'])\n",
    "y = data['total_claim_amount']\n",
    "\n",
    "# Convert categorical variables to dummy/indicator variables\n",
    "X = pd.get_dummies(X, drop_first=True)\n",
    "\n",
    "X_train, X_test, y_train, y_test = train_test_split(X, y, test_size=0.3, random_state=42)"
   ]
  },
  {
   "cell_type": "code",
   "execution_count": 35,
   "id": "6c583e9c-16c4-4442-b7f8-b48093d48a61",
   "metadata": {},
   "outputs": [
    {
     "name": "stdout",
     "output_type": "stream",
     "text": [
      "Random Forest MAE: 10675.467666666666\n",
      "Random Forest RMSE: 14953.599425807153\n",
      "R-squared: 0.6862917754676663\n"
     ]
    }
   ],
   "source": [
    "# Initialize and train the Random Forest model\n",
    "rf_model = RandomForestRegressor(n_estimators=100, random_state=42)\n",
    "rf_model.fit(X_train, y_train)\n",
    "\n",
    "# Predict on the test set\n",
    "y_pred_rf = rf_model.predict(X_test)\n",
    "\n",
    "# Evaluate the model\n",
    "mae_rf = mean_absolute_error(y_test, y_pred_rf)\n",
    "rmse_rf = mean_squared_error(y_test, y_pred_rf, squared=False)\n",
    "r2 = r2_score(y_test, y_pred_rf)\n",
    "\n",
    "print(f'Random Forest MAE: {mae_rf}')\n",
    "print(f'Random Forest RMSE: {rmse_rf}')\n",
    "print(f'R-squared: {r2}')\n",
    "\n"
   ]
  },
  {
   "cell_type": "code",
   "execution_count": 48,
   "id": "3ad2925f-d746-405d-94e4-405691807ce3",
   "metadata": {},
   "outputs": [
    {
     "name": "stdout",
     "output_type": "stream",
     "text": [
      "Fitting 5 folds for each of 648 candidates, totalling 3240 fits\n",
      "Best parameters for Random Forest: {'bootstrap': False, 'max_depth': 30, 'max_features': 'sqrt', 'min_samples_leaf': 1, 'min_samples_split': 5, 'n_estimators': 100}\n",
      "Random Forest MAE: 10782.99\n",
      "Random Forest RMSE: 14699.47\n",
      "Random Forest R-squared: 0.6969\n"
     ]
    }
   ],
   "source": [
    "# Define the parameter grid for Random Forest\n",
    "rf_param_grid = {\n",
    "    'n_estimators': [100, 500, 1000],        # Number of trees in the forest\n",
    "    'max_depth': [None, 10, 20, 30],         # Maximum depth of the tree\n",
    "    'min_samples_split': [2, 5, 10],         # Minimum number of samples required to split an internal node\n",
    "    'min_samples_leaf': [1, 2, 4],           # Minimum number of samples required to be at a leaf node\n",
    "    'max_features': [1, 'sqrt', 'log2'], # Number of features to consider when looking for the best split\n",
    "    'bootstrap': [True, False],              # Whether bootstrap samples are used when building trees\n",
    "}\n",
    "\n",
    "# Initialize the Random Forest Regressor\n",
    "rf_model = RandomForestRegressor(random_state=42)\n",
    "\n",
    "# Perform GridSearchCV to find the best hyperparameters\n",
    "rf_grid_search = GridSearchCV(estimator=rf_model, param_grid=rf_param_grid, \n",
    "                              cv=5, n_jobs=-1, scoring='neg_mean_absolute_error', verbose=2)\n",
    "\n",
    "# Fit the grid search to the data\n",
    "rf_grid_search.fit(X_train, y_train)\n",
    "\n",
    "# Get the best model and parameters\n",
    "best_rf_model = rf_grid_search.best_estimator_\n",
    "print(\"Best parameters for Random Forest:\", rf_grid_search.best_params_)\n",
    "\n",
    "# Evaluate the best model\n",
    "rf_mae = mean_absolute_error(y_test, best_rf_model.predict(X_test))\n",
    "rf_rmse = np.sqrt(mean_squared_error(y_test, best_rf_model.predict(X_test)))\n",
    "rf_r2 = r2_score(y_test, best_rf_model.predict(X_test))\n",
    "\n",
    "print(f'Random Forest MAE: {rf_mae:.2f}')\n",
    "print(f'Random Forest RMSE: {rf_rmse:.2f}')\n",
    "print(f'Random Forest R-squared: {rf_r2:.4f}')"
   ]
  },
  {
   "cell_type": "code",
   "execution_count": 49,
   "id": "a33cbc43-9286-466b-833c-ce935d49f439",
   "metadata": {},
   "outputs": [
    {
     "data": {
      "text/plain": [
       "['best_gb_model.pkl']"
      ]
     },
     "execution_count": 49,
     "metadata": {},
     "output_type": "execute_result"
    }
   ],
   "source": [
    "# Save the trained model to a file\n",
    "joblib.dump(best_rf_model, 'best_gb_model.pkl')"
   ]
  },
  {
   "cell_type": "code",
   "execution_count": 36,
   "id": "6165368f-b97a-4ed1-b501-e8eb0fdf3d58",
   "metadata": {},
   "outputs": [
    {
     "name": "stdout",
     "output_type": "stream",
     "text": [
      "Gradient Boosting MAE: 11018.196310201414\n",
      "Gradient Boosting RMSE: 15118.755827588515\n",
      "R-squared: 0.6793239498185234\n"
     ]
    }
   ],
   "source": [
    "# Initialize and train the Gradient Boosting model\n",
    "gb_model = GradientBoostingRegressor(n_estimators=1000, subsample=0.8, learning_rate=0.01, max_depth=7, min_samples_split=5, min_samples_leaf=4, max_features='sqrt', random_state=42)\n",
    "gb_model.fit(X_train, y_train)\n",
    "\n",
    "# Predict on the test set\n",
    "y_pred_gb = gb_model.predict(X_test)\n",
    "\n",
    "# Evaluate the model\n",
    "mae_gb = mean_absolute_error(y_test, y_pred_gb)\n",
    "rmse_gb = mean_squared_error(y_test, y_pred_gb, squared=False)\n",
    "r2 = r2_score(y_test, y_pred_gb)\n",
    "\n",
    "\n",
    "print(f'Gradient Boosting MAE: {mae_gb}')\n",
    "print(f'Gradient Boosting RMSE: {rmse_gb}')\n",
    "print(f'R-squared: {r2}')\n"
   ]
  },
  {
   "cell_type": "code",
   "execution_count": 47,
   "id": "3095735f-3aad-49c5-b9e9-49f641883c88",
   "metadata": {},
   "outputs": [
    {
     "name": "stdout",
     "output_type": "stream",
     "text": [
      "Fitting 5 folds for each of 1458 candidates, totalling 7290 fits\n",
      "Best parameters for Gradient Boosting: {'learning_rate': 0.01, 'max_depth': 5, 'max_features': 'sqrt', 'min_samples_leaf': 4, 'min_samples_split': 10, 'n_estimators': 1000, 'subsample': 1.0}\n",
      "Gradient Boosting MAE: 10942.03\n",
      "Gradient Boosting RMSE: 15047.36\n",
      "Gradient Boosting R-squared: 0.6823\n"
     ]
    }
   ],
   "source": [
    "# Define the parameter grid for Gradient Boosting\n",
    "gb_param_grid = {\n",
    "    'n_estimators': [100, 500, 1000],        # Number of boosting stages to be run\n",
    "    'learning_rate': [0.01, 0.05, 0.1],      # Step size shrinkage\n",
    "    'max_depth': [3, 5, 7],                  # Maximum depth of the individual regression estimators\n",
    "    'min_samples_split': [2, 5, 10],         # Minimum number of samples required to split an internal node\n",
    "    'min_samples_leaf': [1, 2, 4],           # Minimum number of samples required to be at a leaf node\n",
    "    'max_features': [1, 'sqrt', 'log2'], # Number of features to consider when looking for the best split\n",
    "    'subsample': [0.8, 1.0],                 # Fraction of samples used for fitting the individual base learners\n",
    "}\n",
    "\n",
    "# Initialize the Gradient Boosting Regressor\n",
    "gb_model = GradientBoostingRegressor(random_state=42)\n",
    "\n",
    "# Perform GridSearchCV to find the best hyperparameters\n",
    "gb_grid_search = GridSearchCV(estimator=gb_model, param_grid=gb_param_grid, \n",
    "                              cv=5, n_jobs=-1, scoring='neg_mean_absolute_error', verbose=2)\n",
    "\n",
    "# Fit the grid search to the data\n",
    "gb_grid_search.fit(X_train, y_train)\n",
    "\n",
    "# Get the best model and parameters\n",
    "best_gb_model = gb_grid_search.best_estimator_\n",
    "print(\"Best parameters for Gradient Boosting:\", gb_grid_search.best_params_)\n",
    "\n",
    "# Evaluate the best model\n",
    "gb_mae = mean_absolute_error(y_test, best_gb_model.predict(X_test))\n",
    "gb_rmse = np.sqrt(mean_squared_error(y_test, best_gb_model.predict(X_test)))\n",
    "gb_r2 = r2_score(y_test, best_gb_model.predict(X_test))\n",
    "\n",
    "print(f'Gradient Boosting MAE: {gb_mae:.2f}')\n",
    "print(f'Gradient Boosting RMSE: {gb_rmse:.2f}')\n",
    "print(f'Gradient Boosting R-squared: {gb_r2:.4f}')"
   ]
  },
  {
   "cell_type": "code",
   "execution_count": 50,
   "id": "0f43b3b1-9371-4ca7-80a7-44403a73c48e",
   "metadata": {},
   "outputs": [
    {
     "data": {
      "text/plain": [
       "['best_gb_model.pkl']"
      ]
     },
     "execution_count": 50,
     "metadata": {},
     "output_type": "execute_result"
    }
   ],
   "source": [
    "# Save the trained model to a file\n",
    "joblib.dump(best_gb_model, 'best_gb_model.pkl')\n"
   ]
  },
  {
   "cell_type": "code",
   "execution_count": null,
   "id": "bc8430cd-1506-4753-99fc-41cfb3ea41f5",
   "metadata": {},
   "outputs": [],
   "source": []
  }
 ],
 "metadata": {
  "kernelspec": {
   "display_name": "Python 3 (ipykernel)",
   "language": "python",
   "name": "python3"
  },
  "language_info": {
   "codemirror_mode": {
    "name": "ipython",
    "version": 3
   },
   "file_extension": ".py",
   "mimetype": "text/x-python",
   "name": "python",
   "nbconvert_exporter": "python",
   "pygments_lexer": "ipython3",
   "version": "3.10.9"
  }
 },
 "nbformat": 4,
 "nbformat_minor": 5
}
