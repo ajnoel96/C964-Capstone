{
 "cells": [
  {
   "cell_type": "code",
   "execution_count": 5,
   "id": "8d9adfb8-fc63-4b32-ac15-3e034d6b2cab",
   "metadata": {},
   "outputs": [],
   "source": [
    "import joblib\n",
    "import ipywidgets as widgets\n",
    "from IPython.display import display\n",
    "import numpy as np\n",
    "import pandas as pd\n",
    "from ipywidgets import interactive\n",
    "\n",
    "# Load the model\n",
    "best_rf_model = joblib.load('best_rf_model.pkl')\n"
   ]
  },
  {
   "cell_type": "code",
   "execution_count": 9,
   "id": "2d38deae-ab90-431d-b1ad-f05ef935f374",
   "metadata": {},
   "outputs": [],
   "source": [
    "def preprocess_input(months_as_customer, age, policy_deductable, policy_annual_premium, \n",
    "                     incident_type, collision_type, incident_severity, \n",
    "                     incident_hour_of_the_day, number_of_vehicles_involved, \n",
    "                     property_damage, bodily_injuries, auto_make, auto_model, auto_year):\n",
    "    # Create a DataFrame with the input values\n",
    "    input_data = pd.DataFrame({\n",
    "        'months_as_customer': [months_as_customer],\n",
    "        'age': [age],\n",
    "        'policy_deductable': [policy_deductable],\n",
    "        'policy_annual_premium': [policy_annual_premium],\n",
    "        'incident_type': [incident_type],\n",
    "        'collision_type': [collision_type],\n",
    "        'incident_severity': [incident_severity],\n",
    "        'incident_hour_of_the_day': [incident_hour_of_the_day],\n",
    "        'number_of_vehicles_involved': [number_of_vehicles_involved],\n",
    "        'property_damage': [property_damage],\n",
    "        'bodily_injuries': [bodily_injuries],\n",
    "        'auto_make': [auto_make],\n",
    "        'auto_model': [auto_model],\n",
    "        'auto_year': [auto_year]\n",
    "    })\n",
    "\n",
    "    # Convert categorical variables to one-hot encoding\n",
    "    input_data = pd.get_dummies(input_data)\n",
    "\n",
    "    # Ensure the input data has the same columns as the training data\n",
    "    model_columns = best_rf_model.feature_names_in_\n",
    "    input_data = input_data.reindex(columns=model_columns, fill_value=0)\n",
    "\n",
    "    return input_data\n",
    "\n",
    "def predict_claim(months_as_customer, age, policy_deductable, policy_annual_premium, \n",
    "                  incident_type, collision_type, incident_severity, \n",
    "                  incident_hour_of_the_day, number_of_vehicles_involved, \n",
    "                  property_damage, bodily_injuries, auto_make, auto_model, auto_year):\n",
    "    \n",
    "    # Preprocess the input data\n",
    "    input_data = preprocess_input(months_as_customer, age, policy_deductable, policy_annual_premium, \n",
    "                                  incident_type, collision_type, incident_severity, \n",
    "                                  incident_hour_of_the_day, number_of_vehicles_involved, \n",
    "                                  property_damage, bodily_injuries, auto_make, auto_model, auto_year)\n",
    "    \n",
    "    # Make prediction using the Gradient Boosting model\n",
    "    predicted_claim = best_rf_model.predict(input_data)\n",
    "    \n",
    "    # Display the prediction\n",
    "    print(f\"Predicted Total Claim Amount: ${predicted_claim[0]:,.2f}\")\n"
   ]
  },
  {
   "cell_type": "code",
   "execution_count": 7,
   "id": "671302a9-820f-4c2e-997f-4e1482029e6b",
   "metadata": {},
   "outputs": [],
   "source": [
    "#Create widgets\n",
    "months_as_customer = widgets.IntSlider(min=0, max=500, step=5, description='Months as Customer:')\n",
    "age = widgets.IntSlider(min=18, max=100, step=1, description='Age:')\n",
    "policy_deductable = widgets.IntSlider(min=0, max=10000, step=100, description='Deductible:')\n",
    "policy_annual_premium = widgets.FloatSlider(min=500.0, max=5000.0, step=50.0, description='Annual Premium:')\n",
    "incident_type = widgets.Dropdown(options=['Single Vehicle Collision', 'Vehicle Theft', 'Multi-vehicle Collision', 'Parked Car'],\n",
    "                                 description='Incident Type:')\n",
    "collision_type = widgets.Dropdown(options=['Front Collision', 'Side Collision', 'Rear Collision', 'None'],\n",
    "                                  description='Collision Type:')\n",
    "incident_severity = widgets.Dropdown(options=['Minor Damage', 'Major Damage', 'Total Loss', 'Trivial Damage'],\n",
    "                                     description='Incident Severity:')\n",
    "incident_hour_of_the_day = widgets.IntSlider(min=0, max=23, step=1, description='Incident Hour:')\n",
    "number_of_vehicles_involved = widgets.IntSlider(min=1, max=5, step=1, description='Vehicles Involved:')\n",
    "property_damage = widgets.Dropdown(options=['YES', 'NO'], description='Property Damage:')\n",
    "bodily_injuries = widgets.IntSlider(min=0, max=5, step=1, description='Bodily Injuries:')\n",
    "auto_make = widgets.Dropdown(options=['Toyota', 'Honda', 'Ford', 'Chevrolet', 'Other'], description='Auto Make:')\n",
    "auto_model = widgets.Text(description='Auto Model:')\n",
    "auto_year = widgets.IntSlider(min=1990, max=2023, step=1, description='Auto Year:')\n"
   ]
  },
  {
   "cell_type": "code",
   "execution_count": 10,
   "id": "68dac0ba-bb17-4374-98d9-20a72bb0c922",
   "metadata": {},
   "outputs": [
    {
     "data": {
      "application/vnd.jupyter.widget-view+json": {
       "model_id": "531df1c5cdc34b1099eaede3f15d3021",
       "version_major": 2,
       "version_minor": 0
      },
      "text/plain": [
       "interactive(children=(IntSlider(value=0, description='Months as Customer:', max=500, step=5), IntSlider(value=…"
      ]
     },
     "metadata": {},
     "output_type": "display_data"
    }
   ],
   "source": [
    "# Create the UI\n",
    "interactive_ui = interactive(predict_claim, \n",
    "                             months_as_customer=months_as_customer, \n",
    "                             age=age, \n",
    "                             policy_deductable=policy_deductable, \n",
    "                             policy_annual_premium=policy_annual_premium, \n",
    "                             incident_type=incident_type,\n",
    "                             collision_type=collision_type,\n",
    "                             incident_severity=incident_severity,\n",
    "                             incident_hour_of_the_day=incident_hour_of_the_day,\n",
    "                             number_of_vehicles_involved=number_of_vehicles_involved,\n",
    "                             property_damage=property_damage,\n",
    "                             bodily_injuries=bodily_injuries,\n",
    "                             auto_make=auto_make,\n",
    "                             auto_model=auto_model,\n",
    "                             auto_year=auto_year)\n",
    "\n",
    "# Display the UI\n",
    "display(interactive_ui)\n"
   ]
  },
  {
   "cell_type": "code",
   "execution_count": null,
   "id": "bc0032e0-199d-4bbb-8da1-4a7e98990f73",
   "metadata": {},
   "outputs": [],
   "source": []
  }
 ],
 "metadata": {
  "kernelspec": {
   "display_name": "Python 3 (ipykernel)",
   "language": "python",
   "name": "python3"
  },
  "language_info": {
   "codemirror_mode": {
    "name": "ipython",
    "version": 3
   },
   "file_extension": ".py",
   "mimetype": "text/x-python",
   "name": "python",
   "nbconvert_exporter": "python",
   "pygments_lexer": "ipython3",
   "version": "3.10.9"
  }
 },
 "nbformat": 4,
 "nbformat_minor": 5
}
